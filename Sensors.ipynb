{
  "nbformat": 4,
  "nbformat_minor": 0,
  "metadata": {
    "colab": {
      "name": "Sensors.ipynb",
      "provenance": [],
      "authorship_tag": "ABX9TyM7mOzgY/n64qleEvq3nptB",
      "include_colab_link": true
    },
    "kernelspec": {
      "name": "python3",
      "display_name": "Python 3"
    }
  },
  "cells": [
    {
      "cell_type": "markdown",
      "metadata": {
        "id": "view-in-github",
        "colab_type": "text"
      },
      "source": [
        "<a href=\"https://colab.research.google.com/github/priya212000/Food-spoilage-detection/blob/main/Sensors.ipynb\" target=\"_parent\"><img src=\"https://colab.research.google.com/assets/colab-badge.svg\" alt=\"Open In Colab\"/></a>"
      ]
    },
    {
      "cell_type": "code",
      "metadata": {
        "id": "LRCcA3ty4Lex"
      },
      "source": [
        "import seaborn as sns\n",
        "import pandas as pd\n",
        "import numpy as np\n",
        "import matplotlib as mpl\n",
        "import matplotlib.pyplot as plt\n",
        "%matplotlib inline\n"
      ],
      "execution_count": 153,
      "outputs": []
    },
    {
      "cell_type": "code",
      "metadata": {
        "id": "ulmSgUMp4MIy",
        "outputId": "8233b39b-5a32-49a0-d8be-322d73fccd7e",
        "colab": {
          "base_uri": "https://localhost:8080/",
          "height": 34
        }
      },
      "source": [
        "from google.colab import drive\n",
        "drive.mount('/content/drive')"
      ],
      "execution_count": 154,
      "outputs": [
        {
          "output_type": "stream",
          "text": [
            "Drive already mounted at /content/drive; to attempt to forcibly remount, call drive.mount(\"/content/drive\", force_remount=True).\n"
          ],
          "name": "stdout"
        }
      ]
    },
    {
      "cell_type": "code",
      "metadata": {
        "id": "5yLgOJl24ROU"
      },
      "source": [
        "df=pd.read_excel(\"/content/drive/My Drive/datasets_paper/data2.xlsx\")"
      ],
      "execution_count": 1383,
      "outputs": []
    },
    {
      "cell_type": "code",
      "metadata": {
        "id": "INxHMJi94dBx"
      },
      "source": [
        "data= [df['MQ8A'], df['MQ135A'], df['MQ9A'], df['MQ4A'], df['MQ2A'], df['MQ3A'], df['output']]\n",
        "data2= [df['MQ8D'], df['MQ135D'], df['MQ9D'], df['MQ4D'], df['MQ2D'], df['MQ3D'], df['output']]\n",
        "data3=[df['MQ4D'], df['MQ3D'], df['output']]"
      ],
      "execution_count": 1495,
      "outputs": []
    },
    {
      "cell_type": "code",
      "metadata": {
        "id": "tdr6UMEVN4f9"
      },
      "source": [
        "headers = [\"MQ8A\", \"MQ135A\", \"MQ9A\", \"MQ4A\", \"MQ2A\", \"MQ3A\", 'output']\n",
        "df1 = pd. concat(data, axis=1, keys=headers)\n",
        "headers2 = [\"MQ8D\", \"MQ135D\", \"MQ9D\", \"MQ4D\", \"MQ2D\", \"MQ3D\", 'output']\n",
        "df3 = pd. concat(data2, axis=1, keys=headers)\n",
        "headers3 = [\"MQ8D\",  \"MQ4D\",'output']\n",
        "df4 = pd. concat(data3, axis=1, keys=headers3)\n"
      ],
      "execution_count": 1496,
      "outputs": []
    },
    {
      "cell_type": "code",
      "metadata": {
        "id": "aQUF-UH14o8q"
      },
      "source": [
        "df1= df1.fillna(method='ffill')\n"
      ],
      "execution_count": 1575,
      "outputs": []
    },
    {
      "cell_type": "code",
      "metadata": {
        "id": "dgq8Me0k5XN_"
      },
      "source": [
        "df1=df1.astype(int)"
      ],
      "execution_count": 1576,
      "outputs": []
    },
    {
      "cell_type": "code",
      "metadata": {
        "id": "Oj52UB8m96Zp"
      },
      "source": [
        "#pd.set_option(\"display.max_rows\", None, \"display.max_columns\", None)\n"
      ],
      "execution_count": 1529,
      "outputs": []
    },
    {
      "cell_type": "code",
      "metadata": {
        "id": "ydxW-4WsjNMQ"
      },
      "source": [
        "#df2=df1[25:161]\n"
      ],
      "execution_count": 1530,
      "outputs": []
    },
    {
      "cell_type": "code",
      "metadata": {
        "id": "M_0gscXU5Y5P",
        "outputId": "b89d9241-f05e-4ef3-e277-cb23dd41a244",
        "colab": {
          "base_uri": "https://localhost:8080/",
          "height": 195
        }
      },
      "source": [
        "\n",
        "X = df3.iloc[:, 3:5].values\n",
        "y = df3.iloc[:, 6].values\n",
        "p= df2.iloc[:, 4:5].values\n",
        "q= df2.iloc[:, 6].values\n",
        "df3.head()"
      ],
      "execution_count": 1608,
      "outputs": [
        {
          "output_type": "execute_result",
          "data": {
            "text/html": [
              "<div>\n",
              "<style scoped>\n",
              "    .dataframe tbody tr th:only-of-type {\n",
              "        vertical-align: middle;\n",
              "    }\n",
              "\n",
              "    .dataframe tbody tr th {\n",
              "        vertical-align: top;\n",
              "    }\n",
              "\n",
              "    .dataframe thead th {\n",
              "        text-align: right;\n",
              "    }\n",
              "</style>\n",
              "<table border=\"1\" class=\"dataframe\">\n",
              "  <thead>\n",
              "    <tr style=\"text-align: right;\">\n",
              "      <th></th>\n",
              "      <th>MQ8A</th>\n",
              "      <th>MQ135A</th>\n",
              "      <th>MQ9A</th>\n",
              "      <th>MQ4A</th>\n",
              "      <th>MQ2A</th>\n",
              "      <th>MQ3A</th>\n",
              "      <th>output</th>\n",
              "    </tr>\n",
              "  </thead>\n",
              "  <tbody>\n",
              "    <tr>\n",
              "      <th>0</th>\n",
              "      <td>0</td>\n",
              "      <td>1</td>\n",
              "      <td>1</td>\n",
              "      <td>1</td>\n",
              "      <td>1</td>\n",
              "      <td>0</td>\n",
              "      <td>1</td>\n",
              "    </tr>\n",
              "    <tr>\n",
              "      <th>1</th>\n",
              "      <td>0</td>\n",
              "      <td>1</td>\n",
              "      <td>1</td>\n",
              "      <td>1</td>\n",
              "      <td>1</td>\n",
              "      <td>0</td>\n",
              "      <td>1</td>\n",
              "    </tr>\n",
              "    <tr>\n",
              "      <th>2</th>\n",
              "      <td>0</td>\n",
              "      <td>1</td>\n",
              "      <td>1</td>\n",
              "      <td>1</td>\n",
              "      <td>1</td>\n",
              "      <td>0</td>\n",
              "      <td>1</td>\n",
              "    </tr>\n",
              "    <tr>\n",
              "      <th>3</th>\n",
              "      <td>0</td>\n",
              "      <td>1</td>\n",
              "      <td>1</td>\n",
              "      <td>1</td>\n",
              "      <td>1</td>\n",
              "      <td>0</td>\n",
              "      <td>1</td>\n",
              "    </tr>\n",
              "    <tr>\n",
              "      <th>4</th>\n",
              "      <td>0</td>\n",
              "      <td>1</td>\n",
              "      <td>1</td>\n",
              "      <td>1</td>\n",
              "      <td>1</td>\n",
              "      <td>0</td>\n",
              "      <td>1</td>\n",
              "    </tr>\n",
              "  </tbody>\n",
              "</table>\n",
              "</div>"
            ],
            "text/plain": [
              "   MQ8A  MQ135A  MQ9A  MQ4A  MQ2A  MQ3A  output\n",
              "0     0       1     1     1     1     0       1\n",
              "1     0       1     1     1     1     0       1\n",
              "2     0       1     1     1     1     0       1\n",
              "3     0       1     1     1     1     0       1\n",
              "4     0       1     1     1     1     0       1"
            ]
          },
          "metadata": {
            "tags": []
          },
          "execution_count": 1608
        }
      ]
    },
    {
      "cell_type": "code",
      "metadata": {
        "id": "QBSBhtiqE-j7",
        "outputId": "d9797429-23e9-4ab2-9cd2-ae377c255932",
        "colab": {
          "base_uri": "https://localhost:8080/",
          "height": 50
        }
      },
      "source": [
        "a=X[0:26]\n",
        "b=y[0:26]\n",
        "c=X[40:145]\n",
        "d=y[40:145]\n",
        "\n",
        "e,f,g,h=train_test_split(p, q, test_size=0.3, random_state=0)\n",
        "b\n"
      ],
      "execution_count": 1564,
      "outputs": [
        {
          "output_type": "execute_result",
          "data": {
            "text/plain": [
              "array([1, 1, 1, 1, 1, 1, 1, 1, 1, 1, 1, 1, 1, 1, 1, 1, 1, 1, 1, 1, 1, 1,\n",
              "       1, 1, 1, 1])"
            ]
          },
          "metadata": {
            "tags": []
          },
          "execution_count": 1564
        }
      ]
    },
    {
      "cell_type": "code",
      "metadata": {
        "id": "nWnJu3oj55gq",
        "outputId": "a11d3a6b-3495-44c2-f3ea-c96864b473fe",
        "colab": {
          "base_uri": "https://localhost:8080/",
          "height": 101
        }
      },
      "source": [
        "from sklearn.model_selection import train_test_split\n",
        "\n",
        "X_train, X_test, y_train, y_test = train_test_split(X, y, test_size=0.5, random_state=0)\n",
        "#e, a, g, b\n",
        "#train_test_split(p, q, test_size=0.2, random_state=0)\n",
        "\n",
        "#\n",
        "y_train"
      ],
      "execution_count": 1609,
      "outputs": [
        {
          "output_type": "execute_result",
          "data": {
            "text/plain": [
              "array([1, 0, 1, 1, 1, 1, 1, 1, 0, 1, 0, 0, 1, 1, 1, 0, 1, 0, 1, 1, 0, 0,\n",
              "       1, 1, 1, 1, 0, 1, 0, 0, 1, 1, 1, 0, 1, 1, 0, 0, 1, 1, 1, 1, 0, 0,\n",
              "       1, 0, 0, 0, 1, 1, 0, 1, 0, 0, 1, 1, 0, 1, 0, 0, 0, 1, 0, 0, 0, 1,\n",
              "       0, 1, 1, 0, 0, 0, 1, 1, 1, 0, 1, 0, 0, 1, 1, 0, 1, 1, 1, 1, 1, 1,\n",
              "       0, 1, 0, 1, 0])"
            ]
          },
          "metadata": {
            "tags": []
          },
          "execution_count": 1609
        }
      ]
    },
    {
      "cell_type": "code",
      "metadata": {
        "id": "bDuprTHR7Hyu",
        "outputId": "aa1210b7-ef52-4e87-b78e-c273a4d40bd8",
        "colab": {
          "base_uri": "https://localhost:8080/",
          "height": 67
        }
      },
      "source": [
        "\n",
        "from sklearn.preprocessing import StandardScaler \n",
        "sc_x = StandardScaler() \n",
        "\n",
        "X_train = sc_x.fit_transform(X_train) \n",
        "X_test = sc_x.transform(X_test) \n",
        "\n",
        "print (X_test[0:3, :]) \n"
      ],
      "execution_count": 1584,
      "outputs": [
        {
          "output_type": "stream",
          "text": [
            "[[-1.11715867 -0.91952799]\n",
            " [ 2.17193702  2.56552341]\n",
            " [-0.7039557  -0.96364256]]\n"
          ],
          "name": "stdout"
        }
      ]
    },
    {
      "cell_type": "code",
      "metadata": {
        "id": "UbZ-mYNZMmnd",
        "outputId": "d866c6cc-9743-444e-db07-c26f31ab0d0a",
        "colab": {
          "base_uri": "https://localhost:8080/",
          "height": 101
        }
      },
      "source": [
        "\n",
        "from sklearn.linear_model import LogisticRegression \n",
        "classifier = LogisticRegression(random_state = 0) \n",
        "classifier.fit(X_train, y_train)"
      ],
      "execution_count": 1610,
      "outputs": [
        {
          "output_type": "execute_result",
          "data": {
            "text/plain": [
              "LogisticRegression(C=1.0, class_weight=None, dual=False, fit_intercept=True,\n",
              "                   intercept_scaling=1, l1_ratio=None, max_iter=100,\n",
              "                   multi_class='auto', n_jobs=None, penalty='l2',\n",
              "                   random_state=0, solver='lbfgs', tol=0.0001, verbose=0,\n",
              "                   warm_start=False)"
            ]
          },
          "metadata": {
            "tags": []
          },
          "execution_count": 1610
        }
      ]
    },
    {
      "cell_type": "code",
      "metadata": {
        "id": "4CDH0PwydpqE"
      },
      "source": [
        "#X_test"
      ],
      "execution_count": 1611,
      "outputs": []
    },
    {
      "cell_type": "code",
      "metadata": {
        "id": "5O-uF2w17ZQV"
      },
      "source": [
        "y_pred = classifier.predict(X_test)\n"
      ],
      "execution_count": 1612,
      "outputs": []
    },
    {
      "cell_type": "code",
      "metadata": {
        "id": "zhksw6ArDUEC",
        "outputId": "8b10467d-bc22-40d1-c90b-93fb9abb4699",
        "colab": {
          "base_uri": "https://localhost:8080/",
          "height": 34
        }
      },
      "source": [
        "\n",
        "from sklearn.metrics import accuracy_score \n",
        "#a1=accuracy_score(y_test, y_pred)\n",
        "#a2=accuracy_score(y_test, y_pred)\n",
        "#a3=accuracy_score(y_test, y_pred)\n",
        "#a4=accuracy_score(y_test, y_pred)\n",
        "#a1=accuracy_score(y_test, y_pred)\n",
        "a7=accuracy_score(y_test, y_pred)\n",
        "#a1 8,4\n",
        "#a2 135, 4\n",
        "#a3 135, 2\n",
        "#a4 135, 3\n",
        "#a5 9 2\n",
        "#a6 9 3\n",
        "#a7 4 3\n",
        "a7"
      ],
      "execution_count": 1613,
      "outputs": [
        {
          "output_type": "execute_result",
          "data": {
            "text/plain": [
              "0.43010752688172044"
            ]
          },
          "metadata": {
            "tags": []
          },
          "execution_count": 1613
        }
      ]
    },
    {
      "cell_type": "code",
      "metadata": {
        "id": "IHLuxREJDlaD"
      },
      "source": [
        "#v1=[a1,a2,a3,a4,a5,a6]\n",
        "#v2=[a1,a2,a3,a4,a5,a6]\n",
        "#v3=[a1,a2,a3,a4,a5,a6]\n",
        "#v4=[a1,a2,a3,a4,a5,a6]\n",
        "v1=[a1,a2,a3,a4,a5,a6,a7]"
      ],
      "execution_count": 1542,
      "outputs": []
    },
    {
      "cell_type": "code",
      "metadata": {
        "id": "heAV4DL_D02L",
        "outputId": "33e10f5e-4026-4c91-8127-0661e614f5b3",
        "colab": {
          "base_uri": "https://localhost:8080/",
          "height": 134
        }
      },
      "source": [
        "v1"
      ],
      "execution_count": 1511,
      "outputs": [
        {
          "output_type": "execute_result",
          "data": {
            "text/plain": [
              "[0.9736842105263158,\n",
              " 0.6842105263157895,\n",
              " 0.42105263157894735,\n",
              " 0.42105263157894735,\n",
              " 0.42105263157894735,\n",
              " 0.42105263157894735,\n",
              " 0.6842105263157895]"
            ]
          },
          "metadata": {
            "tags": []
          },
          "execution_count": 1511
        }
      ]
    },
    {
      "cell_type": "code",
      "metadata": {
        "id": "ofG8cZkoGVO2",
        "outputId": "034ed732-6dac-4daf-e9f8-411a357cd0a4",
        "colab": {
          "base_uri": "https://localhost:8080/",
          "height": 301
        }
      },
      "source": [
        "import matplotlib.pyplot as plt\n",
        "\n",
        "D = {80:v1[2],70:v2[2],60:v3[2],50:v4[2], 30:v5[2], 10:v6[2]}\n",
        "\n",
        "plt.bar(range(len(D)), list(D.values()), align='center')\n",
        "plt.xticks(range(len(D)), list(D.keys()))\n",
        "plt.title(\"MQ9 SENSOR\")\n",
        "plt.xlabel(\"Percentage of training set used\")\n",
        "plt.ylabel(\"Accuracy\")\n",
        "\n",
        "plt.show()"
      ],
      "execution_count": 1540,
      "outputs": [
        {
          "output_type": "display_data",
          "data": {
            "image/png": "[encoded data removed]",
            "text/plain": [
              "<Figure size 432x288 with 1 Axes>"
            ]
          },
          "metadata": {
            "tags": [],
            "needs_background": "light"
          }
        }
      ]
    },
    {
      "cell_type": "code",
      "metadata": {
        "id": "AxoQMYVaGcGA",
        "outputId": "5745c8c8-0a15-4c92-a952-57ed77087289",
        "colab": {
          "base_uri": "https://localhost:8080/",
          "height": 295
        }
      },
      "source": [
        "import matplotlib.pyplot as plt\n",
        "\n",
        "D = {80:v1[4],70:v2[4],60:v3[],50:v4[2], 30:v5[2], 10:v6[2]}\n",
        "\n",
        "plt.bar(range(len(D)), list(D.values()), align='center')\n",
        "plt.xticks(range(len(D)), list(D.keys()))\n",
        "plt.title(\"MQ2 SENSOR\")\n",
        "plt.xlabel(\"Percentage of training set used\")\n",
        "plt.ylabel(\"Accuracy\")\n",
        "\n",
        "plt.show()"
      ],
      "execution_count": 1038,
      "outputs": [
        {
          "output_type": "display_data",
          "data": {
            "image/png": "[encoded data removed]",
            "text/plain": [
              "<Figure size 432x288 with 1 Axes>"
            ]
          },
          "metadata": {
            "tags": [],
            "needs_background": "light"
          }
        }
      ]
    },
    {
      "cell_type": "code",
      "metadata": {
        "id": "cekeXNz7-cZ5",
        "outputId": "13a462ff-9ff1-4ad1-ebae-16be52b8f848",
        "colab": {
          "base_uri": "https://localhost:8080/",
          "height": 295
        }
      },
      "source": [
        "import matplotlib.pyplot as plt\n",
        "\n",
        "D = {80:v1[0],70:v1[1],60:v1[2],50:v1[3], 20:v1[4], 5:v1[5]}\n",
        "\n",
        "plt.bar(range(len(D)), list(D.values()), align='center')\n",
        "plt.xticks(range(len(D)), list(D.keys()))\n",
        "plt.title(\"DIGITAL VALUE OF SENSOR\")\n",
        "plt.xlabel(\"Percentage of training set used\")\n",
        "plt.ylabel(\"Accuracy\")\n",
        "\n",
        "plt.show()"
      ],
      "execution_count": 1118,
      "outputs": [
        {
          "output_type": "display_data",
          "data": {
            "image/png": "[encoded data removed]",
            "text/plain": [
              "<Figure size 432x288 with 1 Axes>"
            ]
          },
          "metadata": {
            "tags": [],
            "needs_background": "light"
          }
        }
      ]
    },
    {
      "cell_type": "code",
      "metadata": {
        "id": "3ugLLi16eUzC"
      },
      "source": [
        "from sklearn.preprocessing import StandardScaler \n",
        "sc_x = StandardScaler() \n",
        "\n",
        "X = sc_x.fit_transform(X) \n"
      ],
      "execution_count": 1603,
      "outputs": []
    },
    {
      "cell_type": "code",
      "metadata": {
        "id": "W7120_WZCaZq",
        "outputId": "834d0bac-43c6-4359-aa94-30a8de234135",
        "colab": {
          "base_uri": "https://localhost:8080/",
          "height": 322
        }
      },
      "source": [
        "import matplotlib.pyplot as plt\n",
        "import sklearn.linear_model\n",
        "# Fit the data to a logistic regression model.\n",
        "clf = sklearn.linear_model.LogisticRegression(random_state=0)\n",
        "clf.fit(X, y)\n",
        "\n",
        "# Retrieve the model parameters.\n",
        "print(clf.coef_)\n",
        "print(clf.intercept_)\n",
        "b = clf.intercept_[0]\n",
        "w1, w2 = clf.coef_.T\n",
        "\n",
        "# Calculate the intercept and gradient of the decision boundary.\n",
        "c = -b/w2\n",
        "m = -w1/w2\n",
        "\n",
        "# Plot the data and the classification with the decision boundary.\n",
        "xmin, xmax = -4, 4\n",
        "ymin, ymax = -4, 4\n",
        "xd = np.array([xmin, xmax])\n",
        "yd = m*xd + c\n",
        "plt.plot(xd, yd, 'k', lw=1, ls='--')\n",
        "plt.fill_between(xd, yd, ymin, color='tab:red', alpha=0.2)\n",
        "plt.fill_between(xd, yd, ymax, color='tab:pink', alpha=0.2)\n",
        "\n",
        "plt.scatter(*X[y==0].T,s=8 , alpha=0.5)\n",
        "plt.scatter(*X[y==1].T,s=8 , alpha=0.5)\n",
        "plt.xlim(xmin, xmax)\n",
        "plt.ylim(ymin, ymax)\n",
        "plt.ylabel(r'MQ135')\n",
        "plt.xlabel(r'MQ8')\n",
        "\n",
        "plt.show()\n"
      ],
      "execution_count": 1589,
      "outputs": [
        {
          "output_type": "stream",
          "text": [
            "[[2.65051685 2.6845212 ]]\n",
            "[1.392938]\n"
          ],
          "name": "stdout"
        },
        {
          "output_type": "display_data",
          "data": {
            "image/png": "[encoded data removed]",
            "text/plain": [
              "<Figure size 432x288 with 1 Axes>"
            ]
          },
          "metadata": {
            "tags": [],
            "needs_background": "light"
          }
        }
      ]
    },
    {
      "cell_type": "code",
      "metadata": {
        "id": "fWeR5o_fDwkY",
        "outputId": "4dd26a19-f0ad-4496-d948-e6ca5a6db565",
        "colab": {
          "base_uri": "https://localhost:8080/",
          "height": 322
        }
      },
      "source": [
        "import matplotlib.pyplot as plt\n",
        "import sklearn.linear_model\n",
        "# Fit the data to a logistic regression model.\n",
        "clf = sklearn.linear_model.LogisticRegression(random_state=0)\n",
        "clf.fit(X, y)\n",
        "\n",
        "# Retrieve the model parameters.\n",
        "print(clf.coef_)\n",
        "print(clf.intercept_)\n",
        "b = clf.intercept_[0]\n",
        "w1, w2 = clf.coef_.T\n",
        "\n",
        "# Calculate the intercept and gradient of the decision boundary.\n",
        "c = -b/w2\n",
        "m = -w1/w2\n",
        "\n",
        "# Plot the data and the classification with the decision boundary.\n",
        "xmin, xmax = -4, 4\n",
        "ymin, ymax = -4, 4\n",
        "xd = np.array([xmin, xmax])\n",
        "yd = m*xd + c\n",
        "plt.plot(xd, yd, 'k', lw=1, ls='--')\n",
        "plt.fill_between(xd, yd, ymin, color='tab:red', alpha=0.2)\n",
        "plt.fill_between(xd, yd, ymax, color='tab:pink', alpha=0.2)\n",
        "\n",
        "plt.scatter(*X[y==0].T,s=8 , alpha=0.5)\n",
        "plt.scatter(*X[y==1].T,s=8 , alpha=0.5)\n",
        "plt.xlim(xmin, xmax)\n",
        "plt.ylim(ymin, ymax)\n",
        "plt.ylabel(r'MQ9')\n",
        "plt.xlabel(r'MQ135')\n",
        "\n",
        "plt.show()"
      ],
      "execution_count": 1593,
      "outputs": [
        {
          "output_type": "stream",
          "text": [
            "[[4.34582239 0.76655163]]\n",
            "[1.30723351]\n"
          ],
          "name": "stdout"
        },
        {
          "output_type": "display_data",
          "data": {
            "image/png": "[encoded data removed]",
            "text/plain": [
              "<Figure size 432x288 with 1 Axes>"
            ]
          },
          "metadata": {
            "tags": [],
            "needs_background": "light"
          }
        }
      ]
    },
    {
      "cell_type": "code",
      "metadata": {
        "id": "FuxKYQpQEtcJ",
        "outputId": "0cb5c475-bf88-477c-de69-5f978700812d",
        "colab": {
          "base_uri": "https://localhost:8080/",
          "height": 322
        }
      },
      "source": [
        "import matplotlib.pyplot as plt\n",
        "import sklearn.linear_model\n",
        "# Fit the data to a logistic regression model.\n",
        "clf = sklearn.linear_model.LogisticRegression(random_state=0)\n",
        "clf.fit(X, y)\n",
        "\n",
        "# Retrieve the model parameters.\n",
        "print(clf.coef_)\n",
        "print(clf.intercept_)\n",
        "b = clf.intercept_[0]\n",
        "w1, w2 = clf.coef_.T\n",
        "\n",
        "# Calculate the intercept and gradient of the decision boundary.\n",
        "c = -b/w2\n",
        "m = -w1/w2\n",
        "\n",
        "# Plot the data and the classification with the decision boundary.\n",
        "xmin, xmax = -4, 4\n",
        "ymin, ymax = -4, 4\n",
        "xd = np.array([xmin, xmax])\n",
        "yd = m*xd + c\n",
        "plt.plot(xd, yd, 'k', lw=1, ls='--')\n",
        "plt.fill_between(xd, yd, ymin, color='tab:red', alpha=0.2)\n",
        "plt.fill_between(xd, yd, ymax, color='tab:pink', alpha=0.2)\n",
        "\n",
        "plt.scatter(*X[y==0].T,s=8 , alpha=0.5)\n",
        "plt.scatter(*X[y==1].T,s=8 , alpha=0.5)\n",
        "plt.xlim(xmin, xmax)\n",
        "plt.ylim(ymin, ymax)\n",
        "plt.ylabel(r'MQ4')\n",
        "plt.xlabel(r'MQ9')\n",
        "\n",
        "plt.show()"
      ],
      "execution_count": 1597,
      "outputs": [
        {
          "output_type": "stream",
          "text": [
            "[[0.57297063 4.51981334]]\n",
            "[0.99520784]\n"
          ],
          "name": "stdout"
        },
        {
          "output_type": "display_data",
          "data": {
            "image/png": "[encoded data removed]",
            "text/plain": [
              "<Figure size 432x288 with 1 Axes>"
            ]
          },
          "metadata": {
            "tags": [],
            "needs_background": "light"
          }
        }
      ]
    },
    {
      "cell_type": "code",
      "metadata": {
        "id": "Nq3GTzz1E-gj",
        "outputId": "ebc5c0d5-369f-4bb1-a894-5df63e8e6062",
        "colab": {
          "base_uri": "https://localhost:8080/",
          "height": 322
        }
      },
      "source": [
        "import matplotlib.pyplot as plt\n",
        "import sklearn.linear_model\n",
        "# Fit the data to a logistic regression model.\n",
        "clf = sklearn.linear_model.LogisticRegression(random_state=0)\n",
        "clf.fit(X, y)\n",
        "\n",
        "# Retrieve the model parameters.\n",
        "print(clf.coef_)\n",
        "print(clf.intercept_)\n",
        "b = clf.intercept_[0]\n",
        "w1, w2 = clf.coef_.T\n",
        "\n",
        "# Calculate the intercept and gradient of the decision boundary.\n",
        "c = -b/w2\n",
        "m = -w1/w2\n",
        "\n",
        "# Plot the data and the classification with the decision boundary.\n",
        "xmin, xmax = -4, 4\n",
        "ymin, ymax = -4, 4\n",
        "xd = np.array([xmin, xmax])\n",
        "yd = m*xd + c\n",
        "plt.plot(xd, yd, 'k', lw=1, ls='--')\n",
        "plt.fill_between(xd, yd, ymin, color='tab:red', alpha=0.2)\n",
        "plt.fill_between(xd, yd, ymax, color='tab:pink', alpha=0.2)\n",
        "\n",
        "plt.scatter(*X[y==0].T,s=8 , alpha=0.5)\n",
        "plt.scatter(*X[y==1].T,s=8 , alpha=0.5)\n",
        "plt.xlim(xmin, xmax)\n",
        "plt.ylim(ymin, ymax)\n",
        "plt.ylabel(r'MQ2')\n",
        "plt.xlabel(r'MQ4')\n",
        "\n",
        "plt.show()"
      ],
      "execution_count": 1601,
      "outputs": [
        {
          "output_type": "stream",
          "text": [
            "[[ 4.62023863 -0.52227554]]\n",
            "[0.65454082]\n"
          ],
          "name": "stdout"
        },
        {
          "output_type": "display_data",
          "data": {
            "image/png": "[encoded data removed]",
            "text/plain": [
              "<Figure size 432x288 with 1 Axes>"
            ]
          },
          "metadata": {
            "tags": [],
            "needs_background": "light"
          }
        }
      ]
    },
    {
      "cell_type": "code",
      "metadata": {
        "id": "8auNqgYcFIDA",
        "outputId": "ec8d0cfd-8d39-41b2-98eb-aca0891392e2",
        "colab": {
          "base_uri": "https://localhost:8080/",
          "height": 322
        }
      },
      "source": [
        "import matplotlib.pyplot as plt\n",
        "import sklearn.linear_model\n",
        "# Fit the data to a logistic regression model.\n",
        "clf = sklearn.linear_model.LogisticRegression(random_state=0)\n",
        "clf.fit(X, y)\n",
        "\n",
        "# Retrieve the model parameters.\n",
        "print(clf.coef_)\n",
        "print(clf.intercept_)\n",
        "b = clf.intercept_[0]\n",
        "w1, w2 = clf.coef_.T\n",
        "\n",
        "# Calculate the intercept and gradient of the decision boundary.\n",
        "c = -b/w2\n",
        "m = -w1/w2\n",
        "\n",
        "# Plot the data and the classification with the decision boundary.\n",
        "xmin, xmax = -4, 4\n",
        "ymin, ymax = -4, 4\n",
        "xd = np.array([xmin, xmax])\n",
        "yd = m*xd + c\n",
        "plt.plot(xd, yd, 'k', lw=1, ls='--')\n",
        "plt.fill_between(xd, yd, ymin, color='tab:red', alpha=0.2)\n",
        "plt.fill_between(xd, yd, ymax, color='tab:pink', alpha=0.2)\n",
        "\n",
        "plt.scatter(*X[y==0].T,s=8 , alpha=0.5)\n",
        "plt.scatter(*X[y==1].T,s=8 , alpha=0.5)\n",
        "plt.xlim(xmin, xmax)\n",
        "plt.ylim(ymin, ymax)\n",
        "plt.ylabel(r'MQ3')\n",
        "plt.xlabel(r'MQ2')\n",
        "\n",
        "plt.show()"
      ],
      "execution_count": 1604,
      "outputs": [
        {
          "output_type": "stream",
          "text": [
            "[[ 1.98920329 -3.90812521]]\n",
            "[0.72942656]\n"
          ],
          "name": "stdout"
        },
        {
          "output_type": "display_data",
          "data": {
            "image/png": "[encoded data removed]",
            "text/plain": [
              "<Figure size 432x288 with 1 Axes>"
            ]
          },
          "metadata": {
            "tags": [],
            "needs_background": "light"
          }
        }
      ]
    },
    {
      "cell_type": "code",
      "metadata": {
        "id": "q7JRIQMCINnC",
        "outputId": "dfb7b20c-f822-42e2-e790-03279f31eb81",
        "colab": {
          "base_uri": "https://localhost:8080/",
          "height": 301
        }
      },
      "source": [
        "import matplotlib.pyplot as plt\n",
        "\n",
        "D = {9:a7, 4:v1[1],2:v1[2],3:v1[3]}\n",
        "\n",
        "plt.bar(range(len(D)), list(D.values()), align='center')\n",
        "plt.xticks(range(len(D)), list(D.keys()))\n",
        "plt.title(\"MQ135 SENSOR\")\n",
        "plt.xlabel(\"The feature sensor added with MQ135\")\n",
        "plt.ylabel(\"Accuracy\")\n",
        "\n",
        "plt.show()"
      ],
      "execution_count": 1543,
      "outputs": [
        {
          "output_type": "display_data",
          "data": {
            "image/png": "[encoded data removed]",
            "text/plain": [
              "<Figure size 432x288 with 1 Axes>"
            ]
          },
          "metadata": {
            "tags": [],
            "needs_background": "light"
          }
        }
      ]
    },
    {
      "cell_type": "code",
      "metadata": {
        "id": "O53HsAtvOnCW",
        "outputId": "2ed425c9-4181-4275-ad1f-d76b17e40d2f",
        "colab": {
          "base_uri": "https://localhost:8080/",
          "height": 301
        }
      },
      "source": [
        "import matplotlib.pyplot as plt\n",
        "\n",
        "D = {4:a7,2:v1[4],3:v1[5]}\n",
        "\n",
        "plt.bar(range(len(D)), list(D.values()), align='center')\n",
        "plt.xticks(range(len(D)), list(D.keys()))\n",
        "plt.title(\"MQ9 SENSOR\")\n",
        "plt.xlabel(\"The feature sensor added with MQ9\")\n",
        "plt.ylabel(\"Accuracy\")\n",
        "\n",
        "plt.show()"
      ],
      "execution_count": 1606,
      "outputs": [
        {
          "output_type": "display_data",
          "data": {
            "image/png": "[encoded data removed]",
            "text/plain": [
              "<Figure size 432x288 with 1 Axes>"
            ]
          },
          "metadata": {
            "tags": [],
            "needs_background": "light"
          }
        }
      ]
    },
    {
      "cell_type": "code",
      "metadata": {
        "id": "1fjHroL_9GwT",
        "outputId": "d7fda2f5-7c1b-4173-d57f-7cc30875c868",
        "colab": {
          "base_uri": "https://localhost:8080/",
          "height": 301
        }
      },
      "source": [
        "import matplotlib.pyplot as plt\n",
        "\n",
        "D = {2:a7,3:v1[6]}\n",
        "\n",
        "plt.bar(range(len(D)), list(D.values()), align='center')\n",
        "plt.xticks(range(len(D)), list(D.keys()))\n",
        "plt.title(\"MQ4 SENSOR\")\n",
        "plt.xlabel(\"The feature sensor added with MQ4\")\n",
        "plt.ylabel(\"Accuracy\")\n",
        "\n",
        "plt.show()"
      ],
      "execution_count": 1614,
      "outputs": [
        {
          "output_type": "display_data",
          "data": {
            "image/png": "[encoded data removed]",
            "text/plain": [
              "<Figure size 432x288 with 1 Axes>"
            ]
          },
          "metadata": {
            "tags": [],
            "needs_background": "light"
          }
        }
      ]
    },
    {
      "cell_type": "code",
      "metadata": {
        "id": "-fof46_c9OIh",
        "outputId": "5026403f-5d21-4dce-f4b7-9729ea73bc63",
        "colab": {
          "base_uri": "https://localhost:8080/",
          "height": 301
        }
      },
      "source": [
        "himport matplotlib.pyplot as plt\n",
        "\n",
        "D = {135:v1[0], 9:v1[0], 4:v1[0], 2:v1[0], 3:v1[0]}\n",
        "\n",
        "plt.bar(range(len(D)), list(D.values()), align='center')\n",
        "plt.xticks(range(len(D)), list(D.keys()))\n",
        "plt.title(\"MQ8 SENSOR\")\n",
        "plt.xlabel(\"The feature sensor added with the rest\")\n",
        "plt.ylabel(\"Accuracy\")\n",
        "\n",
        "plt.show()"
      ],
      "execution_count": 1519,
      "outputs": [
        {
          "output_type": "display_data",
          "data": {
            "image/png": "[encoded data removed]",
            "text/plain": [
              "<Figure size 432x288 with 1 Axes>"
            ]
          },
          "metadata": {
            "tags": [],
            "needs_background": "light"
          }
        }
      ]
    },
    {
      "cell_type": "code",
      "metadata": {
        "id": "0U61Gx3O9tc2"
      },
      "source": [
        ""
      ],
      "execution_count": null,
      "outputs": []
    }
  ]
}